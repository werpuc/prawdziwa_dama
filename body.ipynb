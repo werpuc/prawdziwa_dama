{
 "cells": [
  {
   "cell_type": "code",
   "execution_count": 31,
   "metadata": {
    "collapsed": true
   },
   "outputs": [],
   "source": [
    "import requests\n",
    "from bs4 import BeautifulSoup"
   ]
  },
  {
   "cell_type": "code",
   "execution_count": 73,
   "metadata": {},
   "outputs": [],
   "source": [
    "url = u'https://twitter.com/search?q=matka%20since%3A2017-12-01%20until%3A2017-12-31&l=pl&src=typd&f=tweets'"
   ]
  },
  {
   "cell_type": "code",
   "execution_count": 13,
   "metadata": {
    "collapsed": true
   },
   "outputs": [],
   "source": [
    "import time\n",
    "from selenium import webdriver\n",
    "from selenium.webdriver.common.keys import Keys"
   ]
  },
  {
   "cell_type": "code",
   "execution_count": 74,
   "metadata": {},
   "outputs": [],
   "source": [
    "browser = webdriver.Chrome()\n",
    "browser.get(url)\n",
    "time.sleep(1)\n",
    "body = browser.find_element_by_tag_name('body')\n",
    "for _ in range(15):\n",
    "    body.send_keys(Keys.PAGE_DOWN)\n",
    "    time.sleep(0.2)"
   ]
  },
  {
   "cell_type": "code",
   "execution_count": 75,
   "metadata": {},
   "outputs": [
    {
     "data": {
      "text/plain": [
       "18"
      ]
     },
     "execution_count": 75,
     "metadata": {},
     "output_type": "execute_result"
    }
   ],
   "source": [
    "tweets = [tweet.text for tweet in browser.find_elements_by_class_name(\"tweet-text\") if 'matka' in tweet.text]\n",
    "len(tweets)"
   ]
  },
  {
   "cell_type": "code",
   "execution_count": 76,
   "metadata": {},
   "outputs": [
    {
     "name": "stdout",
     "output_type": "stream",
     "text": [
      "Jeżeli matka chodzi sprawdzać co 5 min czy pale to powodzenia\n",
      "matka mi wlazła do pokoju i że mam gasić więc tylko wybuchłem śmiechem. ile ja mam kurwa lat przepraszam bardzoXD\n",
      "matka, córka seks Baran Koziorożec seks \n",
      "w sumie miłość matki do dziecka potrafi być większa a może nie tyle co większa co matka potrafi się poświęcić \n",
      "Na tym polega manipulacja zeby komus przylozyc. Ta pani pisze, ze jest matka. Zastanawiajace, ze moze uczyc swoje dzieci klamstw i manipulacji.\n",
      "Widzę pierwszą od dawna dramę poza Azjatyckim rp, czuję się jak dumna matka, że to tym razem nie my.\n",
      "Matka Anny Przybylskiej szokuje. Ujawniła okropnie smutny fakt o córce http://pikio.pl/matka-anny-przybylskiej-szokuje-ujawnila-okropnie-smutny-fakt-o-corce/ … przez @PikioPL\n",
      "Nie słyszałeś? Jego matka do mnie dzwoniła i przekazała nieprzyjemne wieści. Został postrzelony, a kula nieszczęśliwie przebiła tętnice glow\n",
      "w wakacje moja matka jedzie z bratem na kolonie więc przez 2 tygodnie mam chatę wolną od rana do 17\n",
      "tylko teraz które 2 tygodnie XDDD\n",
      "Kochająca matka z siebie zdejmie, a dziecko ubierze \n",
      "no nie kolejna nastoletnia matka ten tlitwr to pato logia\n",
      "Jeżeli matka nic jutro nie odjebie to nie bede mial powodu zeby ryczec\n",
      "matka sie mnie pyta co dzis brałam xddddddd\n",
      "lee charin zostan moja matka\n",
      "myślałam że u nas w domu jest wyciek gazu, a okazało się że to matka ciasto robi\n",
      "czekam az matka wyjdzie z lazienki bo chce sie umyc wIEC obejrze sobie w tym czasie fancamy z jungkookiem : DDDDDDDDD\n",
      "Ale mnie moja matka dobiła \"ale ty masz celulit na nogach\" no dzięki, kurwa, zajebista jesteś\n",
      "matka, córka seks Baran Koziorożec seks \n"
     ]
    }
   ],
   "source": [
    "for tweet in tweets:\n",
    "    print(tweet)"
   ]
  },
  {
   "cell_type": "code",
   "execution_count": null,
   "metadata": {
    "collapsed": true
   },
   "outputs": [],
   "source": []
  }
 ],
 "metadata": {
  "kernelspec": {
   "display_name": "Python 3",
   "language": "python",
   "name": "python3"
  },
  "language_info": {
   "codemirror_mode": {
    "name": "ipython",
    "version": 3
   },
   "file_extension": ".py",
   "mimetype": "text/x-python",
   "name": "python",
   "nbconvert_exporter": "python",
   "pygments_lexer": "ipython3",
   "version": "3.6.2"
  }
 },
 "nbformat": 4,
 "nbformat_minor": 2
}
