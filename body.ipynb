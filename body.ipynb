{
 "cells": [
  {
   "cell_type": "code",
   "execution_count": 3,
   "metadata": {
    "collapsed": true
   },
   "outputs": [],
   "source": [
    "import requests\n",
    "import time\n",
    "import pandas as pd\n",
    "import datetime\n",
    "import seaborn as sns\n",
    "from bs4 import BeautifulSoup\n",
    "from selenium import webdriver\n",
    "from selenium.webdriver.common.keys import Keys\n",
    "%matplotlib inline"
   ]
  },
  {
   "cell_type": "code",
   "execution_count": 46,
   "metadata": {},
   "outputs": [
    {
     "data": {
      "text/plain": [
       "'https://twitter.com/search?q=matka%20since%3A2017-12-01%20until%3A2017-12-02&l=pl&src=typd&f=tweets'"
      ]
     },
     "execution_count": 46,
     "metadata": {},
     "output_type": "execute_result"
    }
   ],
   "source": [
    "word = 'matka'\n",
    "start = '2017-12-01'\n",
    "end = '2017-12-02'\n",
    "language = 'pl'\n",
    "url = u'https://twitter.com/search?q='+word+'%20since%3A'+start+'%20until%3A'+end+'&l='+language+'&src=typd&f=tweets'"
   ]
  },
  {
   "cell_type": "code",
   "execution_count": 286,
   "metadata": {},
   "outputs": [],
   "source": [
    "browser = webdriver.Chrome()\n",
    "browser.get(url)\n",
    "time.sleep(1)\n",
    "body = browser.find_element_by_tag_name('body')\n",
    "for _ in range(5):\n",
    "    body.send_keys(Keys.PAGE_DOWN)\n",
    "    time.sleep(0.2)"
   ]
  },
  {
   "cell_type": "code",
   "execution_count": 76,
   "metadata": {},
   "outputs": [
    {
     "data": {
      "text/plain": [
       "22"
      ]
     },
     "execution_count": 76,
     "metadata": {},
     "output_type": "execute_result"
    }
   ],
   "source": [
    "tweets = [tweet.text for tweet in browser.find_elements_by_class_name(\"tweet-text\") if word in tweet.text]\n",
    "len(tweets)"
   ]
  },
  {
   "cell_type": "code",
   "execution_count": 287,
   "metadata": {},
   "outputs": [],
   "source": [
    "tweets = list()"
   ]
  },
  {
   "cell_type": "code",
   "execution_count": 290,
   "metadata": {},
   "outputs": [],
   "source": [
    "for date in browser.find_elements_by_class_name(\"content\"):\n",
    "    soup = BeautifulSoup(date.get_attribute('outerHTML'), 'lxml')\n",
    "    tweet = soup.find(\"p\", class_=\"tweet-text\").text\n",
    "    tm = int(soup.find(\"span\", class_=\"_timestamp\").get('data-time')) - 3600\n",
    "    date = datetime.datetime.fromtimestamp(tm).strftime('%Y-%m-%d %H:%M:%S')\n",
    "    tweets.append((date, tm, tweet))"
   ]
  },
  {
   "cell_type": "code",
   "execution_count": 291,
   "metadata": {
    "collapsed": true
   },
   "outputs": [],
   "source": [
    "browser.close()"
   ]
  },
  {
   "cell_type": "code",
   "execution_count": 292,
   "metadata": {},
   "outputs": [],
   "source": [
    "df = pd.DataFrame(tweets)\n",
    "df.columns = ['when', 'timestamp', 'tweet']\n",
    "df['length'] = len(df['tweet'])"
   ]
  },
  {
   "cell_type": "code",
   "execution_count": 297,
   "metadata": {},
   "outputs": [
    {
     "name": "stderr",
     "output_type": "stream",
     "text": [
      "C:\\Users\\Weronika\\Anaconda3\\lib\\site-packages\\ipykernel_launcher.py:2: SettingWithCopyWarning: \n",
      "A value is trying to be set on a copy of a slice from a DataFrame\n",
      "\n",
      "See the caveats in the documentation: http://pandas.pydata.org/pandas-docs/stable/indexing.html#indexing-view-versus-copy\n",
      "  \n"
     ]
    }
   ],
   "source": [
    "for i in range(len(df)):\n",
    "    df['length'][i] = len(df['tweet'][i])\n",
    "df.when = pd.to_datetime(df.when)\n",
    "# df['time'] = df['when'].dt.time\n",
    "# df['date'] = df['when'].dt.date\n",
    "df['timestamp'] = df['timestamp'].astype(str).astype(int)\n",
    "df['time_s'] = df['timestamp']%86400"
   ]
  },
  {
   "cell_type": "code",
   "execution_count": 298,
   "metadata": {},
   "outputs": [
    {
     "data": {
      "text/html": [
       "<div>\n",
       "<style>\n",
       "    .dataframe thead tr:only-child th {\n",
       "        text-align: right;\n",
       "    }\n",
       "\n",
       "    .dataframe thead th {\n",
       "        text-align: left;\n",
       "    }\n",
       "\n",
       "    .dataframe tbody tr th {\n",
       "        vertical-align: top;\n",
       "    }\n",
       "</style>\n",
       "<table border=\"1\" class=\"dataframe\">\n",
       "  <thead>\n",
       "    <tr style=\"text-align: right;\">\n",
       "      <th></th>\n",
       "      <th>when</th>\n",
       "      <th>timestamp</th>\n",
       "      <th>tweet</th>\n",
       "      <th>length</th>\n",
       "      <th>time</th>\n",
       "      <th>date</th>\n",
       "      <th>time_s</th>\n",
       "    </tr>\n",
       "  </thead>\n",
       "  <tbody>\n",
       "    <tr>\n",
       "      <th>0</th>\n",
       "      <td>2017-12-01 23:58:45</td>\n",
       "      <td>1512169125</td>\n",
       "      <td>Ale matka nie została wyjebana do bosforu</td>\n",
       "      <td>42</td>\n",
       "      <td>23:58:45</td>\n",
       "      <td>2017-12-01</td>\n",
       "      <td>82725</td>\n",
       "    </tr>\n",
       "    <tr>\n",
       "      <th>1</th>\n",
       "      <td>2017-12-01 23:43:45</td>\n",
       "      <td>1512168225</td>\n",
       "      <td>Ja byłem zawsze ten odpowiedzialny więc nie wi...</td>\n",
       "      <td>97</td>\n",
       "      <td>23:43:45</td>\n",
       "      <td>2017-12-01</td>\n",
       "      <td>81825</td>\n",
       "    </tr>\n",
       "    <tr>\n",
       "      <th>2</th>\n",
       "      <td>2017-12-01 23:38:39</td>\n",
       "      <td>1512167919</td>\n",
       "      <td>Matka z synem tacy zgrani</td>\n",
       "      <td>26</td>\n",
       "      <td>23:38:39</td>\n",
       "      <td>2017-12-01</td>\n",
       "      <td>81519</td>\n",
       "    </tr>\n",
       "    <tr>\n",
       "      <th>3</th>\n",
       "      <td>2017-12-01 23:27:23</td>\n",
       "      <td>1512167243</td>\n",
       "      <td>Nadęte i udawane. Ale dlaczego nie: \"Unia to n...</td>\n",
       "      <td>224</td>\n",
       "      <td>23:27:23</td>\n",
       "      <td>2017-12-01</td>\n",
       "      <td>80843</td>\n",
       "    </tr>\n",
       "    <tr>\n",
       "      <th>4</th>\n",
       "      <td>2017-12-01 23:18:49</td>\n",
       "      <td>1512166729</td>\n",
       "      <td>Niech Matka Boża nad Panią czuwa.</td>\n",
       "      <td>33</td>\n",
       "      <td>23:18:49</td>\n",
       "      <td>2017-12-01</td>\n",
       "      <td>80329</td>\n",
       "    </tr>\n",
       "  </tbody>\n",
       "</table>\n",
       "</div>"
      ],
      "text/plain": [
       "                 when   timestamp  \\\n",
       "0 2017-12-01 23:58:45  1512169125   \n",
       "1 2017-12-01 23:43:45  1512168225   \n",
       "2 2017-12-01 23:38:39  1512167919   \n",
       "3 2017-12-01 23:27:23  1512167243   \n",
       "4 2017-12-01 23:18:49  1512166729   \n",
       "\n",
       "                                               tweet  length      time  \\\n",
       "0         Ale matka nie została wyjebana do bosforu       42  23:58:45   \n",
       "1  Ja byłem zawsze ten odpowiedzialny więc nie wi...      97  23:43:45   \n",
       "2                         Matka z synem tacy zgrani       26  23:38:39   \n",
       "3  Nadęte i udawane. Ale dlaczego nie: \"Unia to n...     224  23:27:23   \n",
       "4                  Niech Matka Boża nad Panią czuwa.      33  23:18:49   \n",
       "\n",
       "         date  time_s  \n",
       "0  2017-12-01   82725  \n",
       "1  2017-12-01   81825  \n",
       "2  2017-12-01   81519  \n",
       "3  2017-12-01   80843  \n",
       "4  2017-12-01   80329  "
      ]
     },
     "execution_count": 298,
     "metadata": {},
     "output_type": "execute_result"
    }
   ],
   "source": [
    "df.head()"
   ]
  },
  {
   "cell_type": "code",
   "execution_count": 192,
   "metadata": {},
   "outputs": [
    {
     "data": {
      "image/png": "[encoded data removed]",
      "text/plain": [
       "<matplotlib.figure.Figure at 0x214462de390>"
      ]
     },
     "metadata": {},
     "output_type": "display_data"
    }
   ],
   "source": [
    "sns.distplot(df.length, kde = False, rug = False);"
   ]
  },
  {
   "cell_type": "code",
   "execution_count": 240,
   "metadata": {},
   "outputs": [
    {
     "data": {
      "text/plain": [
       "<matplotlib.axes._subplots.AxesSubplot at 0x21449dde7f0>"
      ]
     },
     "execution_count": 240,
     "metadata": {},
     "output_type": "execute_result"
    },
    {
     "data": {
      "image/png": "[encoded data removed]",
      "text/plain": [
       "<matplotlib.figure.Figure at 0x21449df3cc0>"
      ]
     },
     "metadata": {},
     "output_type": "display_data"
    }
   ],
   "source": [
    "sns.kdeplot(df.length, shade=True, cut = 0)"
   ]
  },
  {
   "cell_type": "code",
   "execution_count": 271,
   "metadata": {},
   "outputs": [
    {
     "data": {
      "text/plain": [
       "when         datetime64[ns]\n",
       "timestamp             int32\n",
       "tweet                object\n",
       "length                int64\n",
       "time                 object\n",
       "date                 object\n",
       "dtype: object"
      ]
     },
     "execution_count": 271,
     "metadata": {},
     "output_type": "execute_result"
    }
   ],
   "source": [
    "df.dtypes"
   ]
  },
  {
   "cell_type": "code",
   "execution_count": 273,
   "metadata": {},
   "outputs": [
    {
     "data": {
      "image/png": "[encoded data removed]",
      "text/plain": [
       "<matplotlib.figure.Figure at 0x21449e14588>"
      ]
     },
     "metadata": {},
     "output_type": "display_data"
    }
   ],
   "source": [
    "sns.distplot(df.timestamp, kde = False, rug = False);"
   ]
  },
  {
   "cell_type": "code",
   "execution_count": 300,
   "metadata": {},
   "outputs": [
    {
     "data": {
      "text/plain": [
       "<matplotlib.axes._subplots.AxesSubplot at 0x214498204e0>"
      ]
     },
     "execution_count": 300,
     "metadata": {},
     "output_type": "execute_result"
    },
    {
     "data": {
      "image/png": "[encoded data removed]",
      "text/plain": [
       "<matplotlib.figure.Figure at 0x214494d9e80>"
      ]
     },
     "metadata": {},
     "output_type": "display_data"
    }
   ],
   "source": [
    "sns.swarmplot(df.time_s, df.length)"
   ]
  },
  {
   "cell_type": "code",
   "execution_count": 301,
   "metadata": {},
   "outputs": [
    {
     "data": {
      "text/plain": [
       "<seaborn.axisgrid.PairGrid at 0x214480c51d0>"
      ]
     },
     "execution_count": 301,
     "metadata": {},
     "output_type": "execute_result"
    },
    {
     "data": {
      "image/png": "[encoded data removed]",
      "text/plain": [
       "<matplotlib.figure.Figure at 0x214480c50f0>"
      ]
     },
     "metadata": {},
     "output_type": "display_data"
    }
   ],
   "source": [
    "sns.pairplot(df)"
   ]
  },
  {
   "cell_type": "code",
   "execution_count": 296,
   "metadata": {},
   "outputs": [
    {
     "data": {
      "text/plain": [
       "0     82725\n",
       "1     81825\n",
       "2     81519\n",
       "3     80843\n",
       "4     80329\n",
       "5     79512\n",
       "6     79148\n",
       "7     79057\n",
       "8     78850\n",
       "9     78492\n",
       "10    78452\n",
       "11    78011\n",
       "12    77913\n",
       "13    77864\n",
       "14    77499\n",
       "15    77130\n",
       "16    76779\n",
       "17    76151\n",
       "18    76016\n",
       "19    75991\n",
       "20    75936\n",
       "21    75881\n",
       "22    75843\n",
       "23    75827\n",
       "24    75600\n",
       "25    75286\n",
       "26    75255\n",
       "27    75099\n",
       "28    74924\n",
       "29    74924\n",
       "      ...  \n",
       "50    78452\n",
       "51    78011\n",
       "52    77913\n",
       "53    77864\n",
       "54    77499\n",
       "55    77130\n",
       "56    76779\n",
       "57    76151\n",
       "58    76016\n",
       "59    75991\n",
       "60    75936\n",
       "61    75881\n",
       "62    75843\n",
       "63    75827\n",
       "64    75600\n",
       "65    75286\n",
       "66    75255\n",
       "67    75099\n",
       "68    74924\n",
       "69    74924\n",
       "70    74693\n",
       "71    74628\n",
       "72    74579\n",
       "73    74562\n",
       "74    74518\n",
       "75    74505\n",
       "76    74293\n",
       "77    73913\n",
       "78    73687\n",
       "79    73665\n",
       "Name: timestamp, Length: 80, dtype: int32"
      ]
     },
     "execution_count": 296,
     "metadata": {},
     "output_type": "execute_result"
    }
   ],
   "source": [
    "df.timestamp % 86400"
   ]
  },
  {
   "cell_type": "code",
   "execution_count": 282,
   "metadata": {},
   "outputs": [
    {
     "data": {
      "text/plain": [
       "86400"
      ]
     },
     "execution_count": 282,
     "metadata": {},
     "output_type": "execute_result"
    }
   ],
   "source": [
    "24*60*60"
   ]
  },
  {
   "cell_type": "code",
   "execution_count": 285,
   "metadata": {},
   "outputs": [
    {
     "data": {
      "text/plain": [
       "3600"
      ]
     },
     "execution_count": 285,
     "metadata": {},
     "output_type": "execute_result"
    }
   ],
   "source": [
    "60*60"
   ]
  },
  {
   "cell_type": "code",
   "execution_count": null,
   "metadata": {
    "collapsed": true
   },
   "outputs": [],
   "source": []
  }
 ],
 "metadata": {
  "kernelspec": {
   "display_name": "Python 3",
   "language": "python",
   "name": "python3"
  },
  "language_info": {
   "codemirror_mode": {
    "name": "ipython",
    "version": 3
   },
   "file_extension": ".py",
   "mimetype": "text/x-python",
   "name": "python",
   "nbconvert_exporter": "python",
   "pygments_lexer": "ipython3",
   "version": "3.6.2"
  }
 },
 "nbformat": 4,
 "nbformat_minor": 2
}
