{
 "cells": [
  {
   "cell_type": "code",
   "execution_count": 1,
   "metadata": {
    "collapsed": true
   },
   "outputs": [],
   "source": [
    "import requests\n",
    "import time\n",
    "import pandas as pd\n",
    "import datetime\n",
    "import seaborn as sns\n",
    "import matplotlib.pyplot as plt\n",
    "import numpy as np\n",
    "from bs4 import BeautifulSoup\n",
    "from selenium import webdriver\n",
    "from selenium.webdriver.common.keys import Keys\n",
    "%matplotlib inline"
   ]
  },
  {
   "cell_type": "markdown",
   "metadata": {},
   "source": [
    "W przykładzie będziemy szukać tweetów zawierających słowo \"dama\", opublikowanych w zakresie od 1 do 2 stycznia ubiegłego roku. Na podstawie tych zmiennych, generujemy link do strony wyszukiwań twittera."
   ]
  },
  {
   "cell_type": "code",
   "execution_count": 17,
   "metadata": {},
   "outputs": [],
   "source": [
    "word = 'dama'\n",
    "start = '2017-12-01'\n",
    "end = '2017-12-02'\n",
    "language = 'pl'\n",
    "url = u'https://twitter.com/search?q='+word+'%20since%3A'+start+'%20until%3A'+end+'&l='+language+'&src=typd&f=tweets'"
   ]
  },
  {
   "cell_type": "markdown",
   "metadata": {},
   "source": [
    "Korzystając z selenium, ściągam odpowiedzi na moje wyszukiwanie. Twitter nie pokazuje wszystkich wyników od razu, tylko ładuje je stopniowo podczas scrollowania strony w dół - dlatego \"naciskam\" strzałkę dziesięć razy (w ten sposób zbieram tylko część wyników w celu demonstracji)."
   ]
  },
  {
   "cell_type": "code",
   "execution_count": 18,
   "metadata": {},
   "outputs": [],
   "source": [
    "browser = webdriver.Chrome()\n",
    "browser.get(url)\n",
    "time.sleep(1)\n",
    "body = browser.find_element_by_tag_name('body')\n",
    "for _ in range(10):\n",
    "    body.send_keys(Keys.PAGE_DOWN)\n",
    "    time.sleep(0.2)"
   ]
  },
  {
   "cell_type": "markdown",
   "metadata": {},
   "source": [
    "Zbieram treści tweetów korzystając bezpośrednio z przeglądarki. Treść tweetów to element tweet-text w kodzie HTML."
   ]
  },
  {
   "cell_type": "code",
   "execution_count": 19,
   "metadata": {},
   "outputs": [
    {
     "data": {
      "text/plain": [
       "16"
      ]
     },
     "execution_count": 19,
     "metadata": {},
     "output_type": "execute_result"
    }
   ],
   "source": [
    "tweets = [tweet.text for tweet in browser.find_elements_by_class_name(\"tweet-text\") if word in tweet.text]\n",
    "len(tweets)"
   ]
  },
  {
   "cell_type": "markdown",
   "metadata": {},
   "source": [
    "Same treści nie są jednak wystarczające, chciałabym dostać również datę publikacji. W tym celu przeszukuję źródło strony korzystając z pakietu Beautiful Soup. Dokładna data (jako unix timestamp) to atrybut data-time klasy tweet-text. "
   ]
  },
  {
   "cell_type": "code",
   "execution_count": 20,
   "metadata": {
    "collapsed": true
   },
   "outputs": [],
   "source": [
    "tweets = list()"
   ]
  },
  {
   "cell_type": "code",
   "execution_count": 21,
   "metadata": {
    "collapsed": true
   },
   "outputs": [],
   "source": [
    "for date in browser.find_elements_by_class_name(\"content\"):\n",
    "    soup = BeautifulSoup(date.get_attribute('outerHTML'), 'lxml')\n",
    "    tweet = soup.find(\"p\", class_=\"tweet-text\").text\n",
    "    tm = int(soup.find(\"span\", class_=\"_timestamp\").get('data-time')) - 3600\n",
    "    date = datetime.datetime.fromtimestamp(tm).strftime('%Y-%m-%d %H:%M:%S')\n",
    "    tweets.append((date, tm, tweet))"
   ]
  },
  {
   "cell_type": "code",
   "execution_count": 22,
   "metadata": {
    "collapsed": true
   },
   "outputs": [],
   "source": [
    "browser.close()"
   ]
  },
  {
   "cell_type": "markdown",
   "metadata": {},
   "source": [
    "Zebrane dane (tweety i czas publikacji) wrzucam do ramki danych i na ich podstawie generuję wartości liczbowe - długość tweeta oraz czas publikacji w s."
   ]
  },
  {
   "cell_type": "code",
   "execution_count": 23,
   "metadata": {
    "collapsed": true
   },
   "outputs": [],
   "source": [
    "df = pd.DataFrame(tweets)\n",
    "df.columns = ['when', 'timestamp', 'tweet']\n",
    "df['length'] = len(df['tweet'])"
   ]
  },
  {
   "cell_type": "code",
   "execution_count": 24,
   "metadata": {},
   "outputs": [
    {
     "name": "stderr",
     "output_type": "stream",
     "text": [
      "C:\\Users\\Weronika\\Anaconda3\\lib\\site-packages\\ipykernel_launcher.py:2: SettingWithCopyWarning: \n",
      "A value is trying to be set on a copy of a slice from a DataFrame\n",
      "\n",
      "See the caveats in the documentation: http://pandas.pydata.org/pandas-docs/stable/indexing.html#indexing-view-versus-copy\n",
      "  \n"
     ]
    }
   ],
   "source": [
    "for i in range(len(df)):\n",
    "    df['length'][i] = len(df['tweet'][i])\n",
    "df.when = pd.to_datetime(df.when)\n",
    "# df['time'] = df['when'].dt.time\n",
    "# df['date'] = df['when'].dt.date\n",
    "df['timestamp'] = df['timestamp'].astype(str).astype(int)\n",
    "df['time_s'] = df['timestamp']%86400"
   ]
  },
  {
   "cell_type": "markdown",
   "metadata": {},
   "source": [
    "Dane prezentują się następująco:"
   ]
  },
  {
   "cell_type": "code",
   "execution_count": 25,
   "metadata": {},
   "outputs": [
    {
     "data": {
      "text/html": [
       "<div>\n",
       "<style>\n",
       "    .dataframe thead tr:only-child th {\n",
       "        text-align: right;\n",
       "    }\n",
       "\n",
       "    .dataframe thead th {\n",
       "        text-align: left;\n",
       "    }\n",
       "\n",
       "    .dataframe tbody tr th {\n",
       "        vertical-align: top;\n",
       "    }\n",
       "</style>\n",
       "<table border=\"1\" class=\"dataframe\">\n",
       "  <thead>\n",
       "    <tr style=\"text-align: right;\">\n",
       "      <th></th>\n",
       "      <th>when</th>\n",
       "      <th>timestamp</th>\n",
       "      <th>tweet</th>\n",
       "      <th>length</th>\n",
       "      <th>time_s</th>\n",
       "    </tr>\n",
       "  </thead>\n",
       "  <tbody>\n",
       "    <tr>\n",
       "      <th>0</th>\n",
       "      <td>2017-12-01 23:43:14</td>\n",
       "      <td>1512168194</td>\n",
       "      <td>W wakacje jak bylam w Anglii to sie zjarałam, ...</td>\n",
       "      <td>184</td>\n",
       "      <td>81794</td>\n",
       "    </tr>\n",
       "    <tr>\n",
       "      <th>1</th>\n",
       "      <td>2017-12-01 22:54:52</td>\n",
       "      <td>1512165292</td>\n",
       "      <td>Prawdziwa dama pic.twitter.com/bnGXfAgdTw</td>\n",
       "      <td>41</td>\n",
       "      <td>78892</td>\n",
       "    </tr>\n",
       "    <tr>\n",
       "      <th>2</th>\n",
       "      <td>2017-12-01 22:40:24</td>\n",
       "      <td>1512164424</td>\n",
       "      <td>Dama z gronostajem, olej na desce 1489r. https...</td>\n",
       "      <td>100</td>\n",
       "      <td>78024</td>\n",
       "    </tr>\n",
       "    <tr>\n",
       "      <th>3</th>\n",
       "      <td>2017-12-01 21:59:18</td>\n",
       "      <td>1512161958</td>\n",
       "      <td>Przecież oni nawet nie wiedzą jak wygląda dama...</td>\n",
       "      <td>113</td>\n",
       "      <td>75558</td>\n",
       "    </tr>\n",
       "    <tr>\n",
       "      <th>4</th>\n",
       "      <td>2017-12-01 21:08:04</td>\n",
       "      <td>1512158884</td>\n",
       "      <td>Czemu ta \"dama\" chodzi w asyście ochrony skoro...</td>\n",
       "      <td>250</td>\n",
       "      <td>72484</td>\n",
       "    </tr>\n",
       "  </tbody>\n",
       "</table>\n",
       "</div>"
      ],
      "text/plain": [
       "                 when   timestamp  \\\n",
       "0 2017-12-01 23:43:14  1512168194   \n",
       "1 2017-12-01 22:54:52  1512165292   \n",
       "2 2017-12-01 22:40:24  1512164424   \n",
       "3 2017-12-01 21:59:18  1512161958   \n",
       "4 2017-12-01 21:08:04  1512158884   \n",
       "\n",
       "                                               tweet  length  time_s  \n",
       "0  W wakacje jak bylam w Anglii to sie zjarałam, ...     184   81794  \n",
       "1          Prawdziwa dama pic.twitter.com/bnGXfAgdTw      41   78892  \n",
       "2  Dama z gronostajem, olej na desce 1489r. https...     100   78024  \n",
       "3  Przecież oni nawet nie wiedzą jak wygląda dama...     113   75558  \n",
       "4  Czemu ta \"dama\" chodzi w asyście ochrony skoro...     250   72484  "
      ]
     },
     "execution_count": 25,
     "metadata": {},
     "output_type": "execute_result"
    }
   ],
   "source": [
    "df.head()"
   ]
  },
  {
   "cell_type": "markdown",
   "metadata": {},
   "source": [
    "Patrzę jaka jest średnia długość tweeta i mediana."
   ]
  },
  {
   "cell_type": "code",
   "execution_count": 26,
   "metadata": {},
   "outputs": [
    {
     "data": {
      "text/plain": [
       "(114, 90)"
      ]
     },
     "execution_count": 26,
     "metadata": {},
     "output_type": "execute_result"
    }
   ],
   "source": [
    "length_mean = int(df.length.mean())\n",
    "length_median = int(df.length.median())\n",
    "length_mean, length_median"
   ]
  },
  {
   "cell_type": "markdown",
   "metadata": {},
   "source": [
    "Konstruuję histogram rozkładu długości tweeta."
   ]
  },
  {
   "cell_type": "code",
   "execution_count": 27,
   "metadata": {},
   "outputs": [
    {
     "data": {
      "image/png": "[encoded data removed]",
      "text/plain": [
       "<matplotlib.figure.Figure at 0x185f4c2bc88>"
      ]
     },
     "metadata": {},
     "output_type": "display_data"
    }
   ],
   "source": [
    "sns.distplot(df.length, kde = False, rug = False);"
   ]
  },
  {
   "cell_type": "code",
   "execution_count": 28,
   "metadata": {},
   "outputs": [
    {
     "data": {
      "text/plain": [
       "<matplotlib.axes._subplots.AxesSubplot at 0x185f4bf9400>"
      ]
     },
     "execution_count": 28,
     "metadata": {},
     "output_type": "execute_result"
    },
    {
     "data": {
      "image/png": "[encoded data removed]",
      "text/plain": [
       "<matplotlib.figure.Figure at 0x185f48c0ba8>"
      ]
     },
     "metadata": {},
     "output_type": "display_data"
    }
   ],
   "source": [
    "sns.kdeplot(df.length, shade=True, cut = 0)"
   ]
  },
  {
   "cell_type": "markdown",
   "metadata": {},
   "source": [
    "Na podstawie histogramu i obliczonych wartości można stwierdzić, że wśród zebranej próbki danych przeważają krótkie wypowiedzi - może nie wszyscy zorientowali się, że limit długości wiadomości został zwiększony."
   ]
  },
  {
   "cell_type": "markdown",
   "metadata": {},
   "source": [
    "Jak wygląda korelacja czasu publikacji a długości wiadomości?"
   ]
  },
  {
   "cell_type": "code",
   "execution_count": 29,
   "metadata": {},
   "outputs": [
    {
     "data": {
      "text/plain": [
       "<matplotlib.axes._subplots.AxesSubplot at 0x185f4c172e8>"
      ]
     },
     "execution_count": 29,
     "metadata": {},
     "output_type": "execute_result"
    },
    {
     "data": {
      "image/png": "[encoded data removed]",
      "text/plain": [
       "<matplotlib.figure.Figure at 0x185f4d760b8>"
      ]
     },
     "metadata": {},
     "output_type": "display_data"
    }
   ],
   "source": [
    "xmin = int(min(df.time_s)/100)*100\n",
    "xmax = int(max(df.time_s)/100)*100+100\n",
    "x = np.arange(xmin, xmax, 1000)\n",
    "sns.swarmplot(df.time_s, df.length)"
   ]
  },
  {
   "cell_type": "markdown",
   "metadata": {},
   "source": [
    "Jak prezentuje się wartość liczbowa?"
   ]
  },
  {
   "cell_type": "code",
   "execution_count": 30,
   "metadata": {},
   "outputs": [
    {
     "data": {
      "text/plain": [
       "-0.083060188093250747"
      ]
     },
     "execution_count": 30,
     "metadata": {},
     "output_type": "execute_result"
    }
   ],
   "source": [
    "corr = df.time_s.corr(df.length)\n",
    "corr"
   ]
  },
  {
   "cell_type": "markdown",
   "metadata": {},
   "source": [
    "Na podstawie danych nie można zabserwować wyraźniej korelacji międy czasem a długością publikacji. Dysponując szerszym zakresem czasowym (np z okresu miesiąca lub roku) można by szukać okesowych zmian zainteresowania tematem i powiązać je np z jakimś wydarzeniem krajowym. "
   ]
  },
  {
   "cell_type": "markdown",
   "metadata": {},
   "source": [
    "***"
   ]
  },
  {
   "cell_type": "markdown",
   "metadata": {},
   "source": [
    "Ponadto pakiet seaborn umożliwa analizę każdej wartości liczbowej w ramce danych versus każda wartość liczbowa."
   ]
  },
  {
   "cell_type": "code",
   "execution_count": 16,
   "metadata": {},
   "outputs": [
    {
     "data": {
      "text/plain": [
       "<seaborn.axisgrid.PairGrid at 0x185f37ed208>"
      ]
     },
     "execution_count": 16,
     "metadata": {},
     "output_type": "execute_result"
    },
    {
     "data": {
      "image/png": "[encoded data removed]",
      "text/plain": [
       "<matplotlib.figure.Figure at 0x185f37eddd8>"
      ]
     },
     "metadata": {},
     "output_type": "display_data"
    }
   ],
   "source": [
    "sns.pairplot(df)"
   ]
  }
 ],
 "metadata": {
  "kernelspec": {
   "display_name": "Python 3",
   "language": "python",
   "name": "python3"
  },
  "language_info": {
   "codemirror_mode": {
    "name": "ipython",
    "version": 3
   },
   "file_extension": ".py",
   "mimetype": "text/x-python",
   "name": "python",
   "nbconvert_exporter": "python",
   "pygments_lexer": "ipython3",
   "version": "3.6.2"
  }
 },
 "nbformat": 4,
 "nbformat_minor": 2
}
